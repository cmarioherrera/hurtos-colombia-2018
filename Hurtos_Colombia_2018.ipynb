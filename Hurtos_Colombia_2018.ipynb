{
 "cells": [
  {
   "cell_type": "markdown",
   "metadata": {},
   "source": [
    "# Hurto a personas (del 01 de enero al 31 de diciembre año 2018). \n",
    "# Fuente: Dijin-Policía Nacional. Datos extraídos el día 06 de enero del año 2019 a las 08:00 horas.\n",
    "![title](hurto.jpeg)"
   ]
  },
  {
   "cell_type": "markdown",
   "metadata": {},
   "source": [
    "## Importar las librerias"
   ]
  },
  {
   "cell_type": "code",
   "execution_count": 1,
   "metadata": {},
   "outputs": [],
   "source": [
    "import pandas as pd\n",
    "import matplotlib.pyplot as plt\n",
    "import seaborn as sns\n",
    "%matplotlib inline"
   ]
  },
  {
   "cell_type": "markdown",
   "metadata": {},
   "source": [
    "## Cargar Datos para crear un DataFrame."
   ]
  },
  {
   "cell_type": "code",
   "execution_count": 3,
   "metadata": {},
   "outputs": [],
   "source": [
    "df1 = pd.read_csv('Hurto_a_personas_2018_parte_1.csv') #carga los datos del csv a través de la librería Pandas\n",
    "df2 = pd.read_csv('Hurto_a_personas_2018_parte_2.csv')\n"
   ]
  },
  {
   "cell_type": "code",
   "execution_count": 4,
   "metadata": {},
   "outputs": [],
   "source": [
    "data = pd.concat([df1,df2]) #unimos los dos datasets"
   ]
  },
  {
   "cell_type": "markdown",
   "metadata": {},
   "source": [
    "## Ver las primeras filas de mi DataFrame"
   ]
  },
  {
   "cell_type": "code",
   "execution_count": 5,
   "metadata": {},
   "outputs": [
    {
     "data": {
      "text/html": [
       "<div>\n",
       "<style scoped>\n",
       "    .dataframe tbody tr th:only-of-type {\n",
       "        vertical-align: middle;\n",
       "    }\n",
       "\n",
       "    .dataframe tbody tr th {\n",
       "        vertical-align: top;\n",
       "    }\n",
       "\n",
       "    .dataframe thead th {\n",
       "        text-align: right;\n",
       "    }\n",
       "</style>\n",
       "<table border=\"1\" class=\"dataframe\">\n",
       "  <thead>\n",
       "    <tr style=\"text-align: right;\">\n",
       "      <th></th>\n",
       "      <th>Fecha</th>\n",
       "      <th>Departamento</th>\n",
       "      <th>Municipio</th>\n",
       "      <th>Día</th>\n",
       "      <th>Hora</th>\n",
       "      <th>Barrio</th>\n",
       "      <th>Zona</th>\n",
       "      <th>Clase de sitio</th>\n",
       "      <th>Arma empleada</th>\n",
       "      <th>Móvil Agresor</th>\n",
       "      <th>Móvil Victima</th>\n",
       "      <th>Edad</th>\n",
       "      <th>Sexo</th>\n",
       "      <th>Estado civil</th>\n",
       "      <th>País de nacimiento</th>\n",
       "      <th>Clase de empleado</th>\n",
       "      <th>Profesión</th>\n",
       "      <th>Escolaridad</th>\n",
       "      <th>Código DANE</th>\n",
       "      <th>Cantidad</th>\n",
       "    </tr>\n",
       "  </thead>\n",
       "  <tbody>\n",
       "    <tr>\n",
       "      <th>0</th>\n",
       "      <td>01/01/2018 12:00:00 AM</td>\n",
       "      <td>AMAZONAS</td>\n",
       "      <td>LETICIA (CT)</td>\n",
       "      <td>Lunes</td>\n",
       "      <td>12/31/1899 01:30:00 AM</td>\n",
       "      <td>CASTAÑAL</td>\n",
       "      <td>URBANA</td>\n",
       "      <td>FRENTE A RESIDENCIAS - VIA PUBLICA</td>\n",
       "      <td>SIN EMPLEO DE ARMAS</td>\n",
       "      <td>A PIE</td>\n",
       "      <td>A PIE</td>\n",
       "      <td>64</td>\n",
       "      <td>MASCULINO</td>\n",
       "      <td>SOLTERO</td>\n",
       "      <td>COLOMBIA</td>\n",
       "      <td>EMPLEADO PARTICULAR</td>\n",
       "      <td>-</td>\n",
       "      <td>SECUNDARIA</td>\n",
       "      <td>9.1001e+07</td>\n",
       "      <td>1</td>\n",
       "    </tr>\n",
       "    <tr>\n",
       "      <th>1</th>\n",
       "      <td>01/01/2018 12:00:00 AM</td>\n",
       "      <td>ANTIOQUIA</td>\n",
       "      <td>APARTADÓ</td>\n",
       "      <td>Lunes</td>\n",
       "      <td>12/31/1899 10:00:00 AM</td>\n",
       "      <td>CENTRO</td>\n",
       "      <td>URBANA</td>\n",
       "      <td>CAJERO AUTOMATICO</td>\n",
       "      <td>SIN EMPLEO DE ARMAS</td>\n",
       "      <td>A PIE</td>\n",
       "      <td>A PIE</td>\n",
       "      <td>67</td>\n",
       "      <td>MASCULINO</td>\n",
       "      <td>SOLTERO</td>\n",
       "      <td>COLOMBIA</td>\n",
       "      <td>EMPLEADO PARTICULAR</td>\n",
       "      <td>-</td>\n",
       "      <td>PRIMARIA</td>\n",
       "      <td>5.045e+06</td>\n",
       "      <td>1</td>\n",
       "    </tr>\n",
       "    <tr>\n",
       "      <th>2</th>\n",
       "      <td>01/01/2018 12:00:00 AM</td>\n",
       "      <td>ANTIOQUIA</td>\n",
       "      <td>APARTADÓ</td>\n",
       "      <td>Lunes</td>\n",
       "      <td>12/31/1899 07:00:00 AM</td>\n",
       "      <td>MANZANAREZ</td>\n",
       "      <td>URBANA</td>\n",
       "      <td>CASAS DE HABITACION</td>\n",
       "      <td>SIN EMPLEO DE ARMAS</td>\n",
       "      <td>A PIE</td>\n",
       "      <td>A PIE</td>\n",
       "      <td>47</td>\n",
       "      <td>MASCULINO</td>\n",
       "      <td>UNION LIBRE</td>\n",
       "      <td>COLOMBIA</td>\n",
       "      <td>EMPLEADO PARTICULAR</td>\n",
       "      <td>-</td>\n",
       "      <td>PRIMARIA</td>\n",
       "      <td>5.045e+06</td>\n",
       "      <td>1</td>\n",
       "    </tr>\n",
       "    <tr>\n",
       "      <th>3</th>\n",
       "      <td>01/01/2018 12:00:00 AM</td>\n",
       "      <td>ANTIOQUIA</td>\n",
       "      <td>BELLO</td>\n",
       "      <td>Lunes</td>\n",
       "      <td>12/31/1899 05:00:00 PM</td>\n",
       "      <td>NIQUIA CAMACOL</td>\n",
       "      <td>URBANA</td>\n",
       "      <td>ESTACION DEL METRO</td>\n",
       "      <td>SIN EMPLEO DE ARMAS</td>\n",
       "      <td>PASAJERO METRO</td>\n",
       "      <td>PASAJERO METRO</td>\n",
       "      <td>18</td>\n",
       "      <td>MASCULINO</td>\n",
       "      <td>SOLTERO</td>\n",
       "      <td>COLOMBIA</td>\n",
       "      <td>DESEMPLEADO</td>\n",
       "      <td>-</td>\n",
       "      <td>SECUNDARIA</td>\n",
       "      <td>5.088e+06</td>\n",
       "      <td>1</td>\n",
       "    </tr>\n",
       "    <tr>\n",
       "      <th>4</th>\n",
       "      <td>01/01/2018 12:00:00 AM</td>\n",
       "      <td>ANTIOQUIA</td>\n",
       "      <td>BELLO</td>\n",
       "      <td>Lunes</td>\n",
       "      <td>12/31/1899 06:00:00 AM</td>\n",
       "      <td>PANAMERICANO</td>\n",
       "      <td>URBANA</td>\n",
       "      <td>FRENTE CENTRO COMERCIAL</td>\n",
       "      <td>ARMA DE FUEGO</td>\n",
       "      <td>A PIE</td>\n",
       "      <td>A PIE</td>\n",
       "      <td>35</td>\n",
       "      <td>FEMENINO</td>\n",
       "      <td>UNION LIBRE</td>\n",
       "      <td>COLOMBIA</td>\n",
       "      <td>EMPLEADO PARTICULAR</td>\n",
       "      <td>-</td>\n",
       "      <td>SECUNDARIA</td>\n",
       "      <td>5.088e+06</td>\n",
       "      <td>1</td>\n",
       "    </tr>\n",
       "  </tbody>\n",
       "</table>\n",
       "</div>"
      ],
      "text/plain": [
       "                    Fecha Departamento     Municipio    Día  \\\n",
       "0  01/01/2018 12:00:00 AM     AMAZONAS  LETICIA (CT)  Lunes   \n",
       "1  01/01/2018 12:00:00 AM    ANTIOQUIA      APARTADÓ  Lunes   \n",
       "2  01/01/2018 12:00:00 AM    ANTIOQUIA      APARTADÓ  Lunes   \n",
       "3  01/01/2018 12:00:00 AM    ANTIOQUIA         BELLO  Lunes   \n",
       "4  01/01/2018 12:00:00 AM    ANTIOQUIA         BELLO  Lunes   \n",
       "\n",
       "                     Hora          Barrio    Zona  \\\n",
       "0  12/31/1899 01:30:00 AM        CASTAÑAL  URBANA   \n",
       "1  12/31/1899 10:00:00 AM          CENTRO  URBANA   \n",
       "2  12/31/1899 07:00:00 AM      MANZANAREZ  URBANA   \n",
       "3  12/31/1899 05:00:00 PM  NIQUIA CAMACOL  URBANA   \n",
       "4  12/31/1899 06:00:00 AM    PANAMERICANO  URBANA   \n",
       "\n",
       "                       Clase de sitio        Arma empleada   Móvil Agresor  \\\n",
       "0  FRENTE A RESIDENCIAS - VIA PUBLICA  SIN EMPLEO DE ARMAS           A PIE   \n",
       "1                   CAJERO AUTOMATICO  SIN EMPLEO DE ARMAS           A PIE   \n",
       "2                 CASAS DE HABITACION  SIN EMPLEO DE ARMAS           A PIE   \n",
       "3                  ESTACION DEL METRO  SIN EMPLEO DE ARMAS  PASAJERO METRO   \n",
       "4             FRENTE CENTRO COMERCIAL        ARMA DE FUEGO           A PIE   \n",
       "\n",
       "    Móvil Victima Edad       Sexo Estado civil País de nacimiento  \\\n",
       "0           A PIE   64  MASCULINO      SOLTERO           COLOMBIA   \n",
       "1           A PIE   67  MASCULINO      SOLTERO           COLOMBIA   \n",
       "2           A PIE   47  MASCULINO  UNION LIBRE           COLOMBIA   \n",
       "3  PASAJERO METRO   18  MASCULINO      SOLTERO           COLOMBIA   \n",
       "4           A PIE   35   FEMENINO  UNION LIBRE           COLOMBIA   \n",
       "\n",
       "     Clase de empleado Profesión Escolaridad Código DANE  Cantidad  \n",
       "0  EMPLEADO PARTICULAR         -  SECUNDARIA  9.1001e+07         1  \n",
       "1  EMPLEADO PARTICULAR         -    PRIMARIA   5.045e+06         1  \n",
       "2  EMPLEADO PARTICULAR         -    PRIMARIA   5.045e+06         1  \n",
       "3          DESEMPLEADO         -  SECUNDARIA   5.088e+06         1  \n",
       "4  EMPLEADO PARTICULAR         -  SECUNDARIA   5.088e+06         1  "
      ]
     },
     "execution_count": 5,
     "metadata": {},
     "output_type": "execute_result"
    }
   ],
   "source": [
    "data.head() #head(), muestra los 5 primeros registros"
   ]
  },
  {
   "cell_type": "markdown",
   "metadata": {},
   "source": [
    "## Contar la cantidad de registros."
   ]
  },
  {
   "cell_type": "code",
   "execution_count": 6,
   "metadata": {},
   "outputs": [
    {
     "data": {
      "text/plain": [
       "249332"
      ]
     },
     "execution_count": 6,
     "metadata": {},
     "output_type": "execute_result"
    }
   ],
   "source": [
    "data['Fecha'].count()"
   ]
  },
  {
   "cell_type": "markdown",
   "metadata": {},
   "source": [
    "## Objetivo\n",
    "#### Analizar los hurtos en colombia ocurridos dentro el periodo 1 de enero al 31 de diciembre del año 2018 mediante técnicas de data science para facilitar la interpretación de los datos.\n",
    "\n",
    "## Preguntas a resolver \n",
    "&#x1F914;\n",
    "#### ¿Cual es la cantidad de hurtos que se registra por el arma empleada?\n",
    "#### ¿Cuáles son las regiones con más hurto?\n",
    "#### ¿Cuál es el mes con más hurto?\n",
    "#### ¿Cuál es el flujo de hurtos en el tiempo?\n",
    "#### ¿Cuál es el intervalo de tiempo donde se cometen más hurtos en el día?"
   ]
  },
  {
   "cell_type": "markdown",
   "metadata": {},
   "source": [
    "## 1. Cantidad de hurtos que se  registra por el arma empleada."
   ]
  },
  {
   "cell_type": "code",
   "execution_count": 7,
   "metadata": {},
   "outputs": [
    {
     "data": {
      "text/plain": [
       "SIN EMPLEO DE ARMAS            115613\n",
       "ARMA BLANCA / CORTOPUNZANTE     54479\n",
       "ARMA DE FUEGO                   45738\n",
       "CONTUNDENTES                    15993\n",
       "NO REPORTADO                    15621\n",
       "ESCOPOLAMINA                     1720\n",
       "-                                  72\n",
       "LLAVE MAESTRA                      69\n",
       "PALANCAS                           11\n",
       "PERRO                              11\n",
       "SUSTANCIAS TOXICAS                  2\n",
       "NaN                                 2\n",
       "JERINGA                             1\n",
       "Name: Arma empleada, dtype: int64"
      ]
     },
     "execution_count": 7,
     "metadata": {},
     "output_type": "execute_result"
    }
   ],
   "source": [
    "data['Arma empleada'].value_counts(dropna=False)"
   ]
  },
  {
   "cell_type": "markdown",
   "metadata": {},
   "source": [
    "## 2.regiones con más hurto"
   ]
  },
  {
   "cell_type": "code",
   "execution_count": 8,
   "metadata": {},
   "outputs": [
    {
     "data": {
      "text/plain": [
       "Arma empleada                Departamento\n",
       "SIN EMPLEO DE ARMAS          CUNDINAMARCA    60909\n",
       "ARMA BLANCA / CORTOPUNZANTE  CUNDINAMARCA    28073\n",
       "SIN EMPLEO DE ARMAS          ANTIOQUIA       13212\n",
       "ARMA DE FUEGO                CUNDINAMARCA    10786\n",
       "NO REPORTADO                 CUNDINAMARCA     9238\n",
       "Name: Departamento, dtype: int64"
      ]
     },
     "execution_count": 8,
     "metadata": {},
     "output_type": "execute_result"
    }
   ],
   "source": [
    "data.groupby(['Arma empleada'])['Departamento'].value_counts().sort_values(ascending=False).head()"
   ]
  },
  {
   "cell_type": "markdown",
   "metadata": {},
   "source": [
    "## 3. El mes con más hurtos"
   ]
  },
  {
   "cell_type": "code",
   "execution_count": 9,
   "metadata": {},
   "outputs": [],
   "source": [
    "data['Mes'] = data['Fecha'].apply(lambda row: row.split('/')[0])"
   ]
  },
  {
   "cell_type": "code",
   "execution_count": 10,
   "metadata": {},
   "outputs": [
    {
     "data": {
      "text/html": [
       "<div>\n",
       "<style scoped>\n",
       "    .dataframe tbody tr th:only-of-type {\n",
       "        vertical-align: middle;\n",
       "    }\n",
       "\n",
       "    .dataframe tbody tr th {\n",
       "        vertical-align: top;\n",
       "    }\n",
       "\n",
       "    .dataframe thead th {\n",
       "        text-align: right;\n",
       "    }\n",
       "</style>\n",
       "<table border=\"1\" class=\"dataframe\">\n",
       "  <thead>\n",
       "    <tr style=\"text-align: right;\">\n",
       "      <th></th>\n",
       "      <th>Mes</th>\n",
       "      <th>count</th>\n",
       "    </tr>\n",
       "  </thead>\n",
       "  <tbody>\n",
       "    <tr>\n",
       "      <th>7</th>\n",
       "      <td>08</td>\n",
       "      <td>23065</td>\n",
       "    </tr>\n",
       "  </tbody>\n",
       "</table>\n",
       "</div>"
      ],
      "text/plain": [
       "  Mes  count\n",
       "7  08  23065"
      ]
     },
     "execution_count": 10,
     "metadata": {},
     "output_type": "execute_result"
    }
   ],
   "source": [
    "grupoMes = pd.DataFrame({'count' : data.groupby( ['Mes']).size()}).reset_index()\n",
    "conteoHurtoMes = grupoMes['count'].max()\n",
    "grupoMes[grupoMes['count'] == conteoHurtoMes]"
   ]
  },
  {
   "cell_type": "code",
   "execution_count": 11,
   "metadata": {},
   "outputs": [],
   "source": [
    "hurtosPorMes = data.groupby(['Mes']).size()"
   ]
  },
  {
   "cell_type": "code",
   "execution_count": 12,
   "metadata": {},
   "outputs": [
    {
     "data": {
      "text/plain": [
       "Mes\n",
       "01       18794\n",
       "02       18997\n",
       "03       19775\n",
       "04       22301\n",
       "05       21789\n",
       "06       20414\n",
       "07       20733\n",
       "08       23065\n",
       "09       21491\n",
       "10       22596\n",
       "11       21171\n",
       "12       18204\n",
       "TOTAL        2\n",
       "dtype: int64"
      ]
     },
     "execution_count": 12,
     "metadata": {},
     "output_type": "execute_result"
    }
   ],
   "source": [
    "hurtosPorMes"
   ]
  },
  {
   "cell_type": "markdown",
   "metadata": {},
   "source": [
    "## 4. flujo del hurto en el tiempo"
   ]
  },
  {
   "cell_type": "code",
   "execution_count": 15,
   "metadata": {},
   "outputs": [
    {
     "data": {
      "image/png": "[encoded data removed]",
      "text/plain": [
       "<Figure size 432x288 with 1 Axes>"
      ]
     },
     "metadata": {
      "needs_background": "light"
     },
     "output_type": "display_data"
    }
   ],
   "source": [
    "sns.countplot(data['Mes'], color='skyblue')\n",
    "plt.title(\"Hurto por mes  en colombia\")\n",
    "plt.xlabel(\"month\")\n",
    "plt.ylabel(\"Incident Count\")\n",
    "plt.show()"
   ]
  },
  {
   "cell_type": "markdown",
   "metadata": {},
   "source": [
    "### 5.intervalo de tiempo donde se cometen más hurtos en el día"
   ]
  },
  {
   "cell_type": "code",
   "execution_count": 16,
   "metadata": {},
   "outputs": [
    {
     "data": {
      "image/png": "[encoded data removed]",
      "text/plain": [
       "<Figure size 432x288 with 1 Axes>"
      ]
     },
     "metadata": {
      "needs_background": "light"
     },
     "output_type": "display_data"
    }
   ],
   "source": [
    "data['hora'] = (data['Hora'].fillna(\"\")\n",
    "                .apply(lambda row: row.split(':')[0])\n",
    "                .apply(lambda row: row.split(' ')[-1]) \n",
    "                )\n",
    "\n",
    "sns.countplot(data['hora'], color='yellow')\n",
    "plt.title(\"Hurtos por hora en Colombia\")\n",
    "plt.xlabel(\"Hour\")\n",
    "plt.ylabel(\"Incident Count\")\n",
    "plt.show()"
   ]
  }
 ],
 "metadata": {
  "kernelspec": {
   "display_name": "Python 3",
   "language": "python",
   "name": "python3"
  },
  "language_info": {
   "codemirror_mode": {
    "name": "ipython",
    "version": 3
   },
   "file_extension": ".py",
   "mimetype": "text/x-python",
   "name": "python",
   "nbconvert_exporter": "python",
   "pygments_lexer": "ipython3",
   "version": "3.7.2"
  }
 },
 "nbformat": 4,
 "nbformat_minor": 2
}
